{
 "cells": [
  {
   "cell_type": "code",
   "execution_count": 16,
   "metadata": {},
   "outputs": [],
   "source": [
    "import os\n",
    "import sys\n",
    "sys.path.append('ibmHearingAid/multi_gpu')\n",
    "import tensorflow as tf\n",
    "import json\n",
    "\n",
    "import pitchnet_evaluate_best\n",
    "import functions_graph_assembly as fga"
   ]
  },
  {
   "cell_type": "code",
   "execution_count": 30,
   "metadata": {},
   "outputs": [
    {
     "name": "stdout",
     "output_type": "stream",
     "text": [
      "Selecting checkpoint 54000 (f0_label:accuracy=0.2105589061975479)\n"
     ]
    }
   ],
   "source": [
    "output_directory = '/saved_models/arch_0628/PND_v04_TLAS_classification0'\n",
    "config_fn = os.path.join(output_directory, 'config.json')\n",
    "validation_metrics_fn = os.path.join(output_directory, 'validation_metrics.json')\n",
    "\n",
    "tfrecords_regex = '/om/user/msaddler/data_pitchnet/bernox2005/FixedFilter_f0min100_f0max300/cf100_species002_spont070/*.tfrecords'\n",
    "\n",
    "with open(config_fn) as f: CONFIG = json.load(f)\n",
    "\n",
    "ckpt_num = pitchnet_evaluate_best.get_best_checkpoint_number(validation_metrics_fn,\n",
    "                                                             metric_key='f0_label:accuracy',\n",
    "                                                             maximize=True,\n",
    "                                                             checkpoint_number_key='step')\n"
   ]
  },
  {
   "cell_type": "code",
   "execution_count": 32,
   "metadata": {},
   "outputs": [
    {
     "name": "stdout",
     "output_type": "stream",
     "text": [
      "delta_f0 dict_keys(['floatList'])\n",
      "pin_dBSPL dict_keys(['floatList'])\n",
      "f0_log2 dict_keys(['floatList'])\n",
      "min_audible_harm dict_keys(['int64List'])\n",
      "base_f0 dict_keys(['floatList'])\n",
      "f0_label dict_keys(['int64List'])\n",
      "f0 dict_keys(['floatList'])\n",
      "meanrates dict_keys(['bytesList'])\n",
      "signal dict_keys(['bytesList'])\n",
      "Ignoring tfrecords_key `signal` (not found in bytesList_decoding_dict)\n",
      "f0_lognormal dict_keys(['floatList'])\n",
      "max_audible_harm dict_keys(['int64List'])\n",
      "low_harm dict_keys(['int64List'])\n",
      "phase_mode dict_keys(['int64List'])\n",
      "### Files found: 36\n",
      "/om/user/msaddler/data_pitchnet/bernox2005/FixedFilter_f0min100_f0max300/cf100_species002_spont070/bez2018meanrates_000000-002016.tfrecords \n",
      "...\n",
      " /om/user/msaddler/data_pitchnet/bernox2005/FixedFilter_f0min100_f0max300/cf100_species002_spont070/bez2018meanrates_070583-072600.tfrecords\n",
      "Loading brain network config from /saved_models/arch_0628/PND_v04_TLAS_classification0/brain_arch.json\n",
      "ADDING OPS TO CHECKPOINTS\n",
      "[<tf.Tensor 'brain_network/pool_0:0' shape=(?, 100, 110, 16) dtype=float32>, <tf.Tensor 'brain_network/pool_2:0' shape=(?, 100, 35, 256) dtype=float32>, <tf.Tensor 'brain_network/pool_1:0' shape=(?, 100, 46, 32) dtype=float32>, <tf.Tensor 'brain_network/pool_5:0' shape=(?, 100, 3, 512) dtype=float32>, <tf.Tensor 'brain_network/pool_3:0' shape=(?, 100, 14, 128) dtype=float32>, <tf.Tensor 'brain_network/pool_4:0' shape=(?, 100, 3, 256) dtype=float32>]\n",
      "### Loading variables from specified checkpoint: /saved_models/arch_0628/PND_v04_TLAS_classification0/brain_model.ckpt-54000\n",
      "WARNING:tensorflow:From /usr/local/lib/python3.5/dist-packages/tensorflow/python/training/saver.py:1266: checkpoint_exists (from tensorflow.python.training.checkpoint_management) is deprecated and will be removed in a future version.\n",
      "Instructions for updating:\n",
      "Use standard file APIs to check for files with this prefix.\n",
      "INFO:tensorflow:Restoring parameters from /saved_models/arch_0628/PND_v04_TLAS_classification0/brain_model.ckpt-54000\n"
     ]
    }
   ],
   "source": [
    "ITERATOR_PARAMS = CONFIG['ITERATOR_PARAMS']\n",
    "batch_size = 128\n",
    "bytesList_decoding_dict = {\"meanrates\": {\"dtype\": \"tf.float32\", \"shape\": [100, 500]}}\n",
    "feature_parsing_dict = pitchnet_evaluate_best.get_feature_parsing_dict_from_tfrecords(tfrecords_regex,\n",
    "                                                                                      bytesList_decoding_dict)\n",
    "\n",
    "ITERATOR_PARAMS['feature_parsing_dict'] = feature_parsing_dict\n",
    "N_CLASSES_DICT = CONFIG['N_CLASSES_DICT']\n",
    "BRAIN_PARAMS = CONFIG['BRAIN_PARAMS']\n",
    "\n",
    "\n",
    "tf.reset_default_graph()\n",
    "\n",
    "# BUILD TFRECORDS ITERATOR GRAPH\n",
    "iterator, dataset, _ = fga.build_tfrecords_iterator(tfrecords_regex,\n",
    "                                                    num_epochs=1, shuffle_flag=False,\n",
    "                                                    batch_size=batch_size,\n",
    "                                                    iterator_type='one-shot',\n",
    "                                                    **ITERATOR_PARAMS)\n",
    "input_tensor_dict = iterator.get_next()\n",
    "\n",
    "### BUILD BRAIN NETWORK GRAPH\n",
    "batch_subbands = input_tensor_dict[ITERATOR_PARAMS['feature_signal_path']]\n",
    "while len(batch_subbands.shape) < 4: batch_subbands = tf.expand_dims(batch_subbands, axis=-1)\n",
    "batch_out_dict, brain_container = fga.build_brain_graph(batch_subbands, N_CLASSES_DICT, **BRAIN_PARAMS)\n",
    "\n",
    "### START SESSION AND INITIALIZE GRAPH\n",
    "init_op = tf.group(tf.global_variables_initializer(), tf.local_variables_initializer())\n",
    "sess = tf.Session()\n",
    "sess.run(init_op)\n",
    "\n",
    "### BUILD SAVER GRAPH TO LOAD CHECKPOINT\n",
    "brain_var_scope = 'brain_network'\n",
    "brain_ckpt_prefix_name = BRAIN_PARAMS.get('save_ckpt_path', 'brain_model.ckpt')\n",
    "restore_model_path = os.path.join(output_directory, brain_ckpt_prefix_name + '-{}'.format(ckpt_num))\n",
    "brain_globals = tf.get_collection(tf.GraphKeys.GLOBAL_VARIABLES, scope=brain_var_scope)\n",
    "brain_locals = tf.get_collection(tf.GraphKeys.LOCAL_VARIABLES, scope=brain_var_scope)\n",
    "brain_variables =  brain_globals + brain_locals\n",
    "saver_brain_net, out_ckpt_loc_brain_net, brain_net_ckpt = fga.build_saver(\n",
    "    sess, brain_variables, output_directory,\n",
    "    restore_model_path=restore_model_path,\n",
    "    ckpt_prefix_name=brain_ckpt_prefix_name)\n"
   ]
  },
  {
   "cell_type": "code",
   "execution_count": 28,
   "metadata": {},
   "outputs": [
    {
     "name": "stdout",
     "output_type": "stream",
     "text": [
      "using batch_subbands with final shape: (?, 100, 500, 1)\n",
      "Loading brain network config from /saved_models/arch_0628/PND_v04_TLAS_classification0/brain_arch.json\n",
      "WARNING:tensorflow:From /usr/local/lib/python3.5/dist-packages/tensorflow/python/framework/op_def_library.py:263: colocate_with (from tensorflow.python.framework.ops) is deprecated and will be removed in a future version.\n",
      "Instructions for updating:\n",
      "Colocations handled automatically by placer.\n",
      "WARNING:tensorflow:From ibmHearingAid/multi_gpu/functions_brain_network.py:50: batch_normalization (from tensorflow.python.layers.normalization) is deprecated and will be removed in a future version.\n",
      "Instructions for updating:\n",
      "Use keras.layers.batch_normalization instead.\n",
      "WARNING:tensorflow:From ibmHearingAid/multi_gpu/functions_brain_network.py:70: flatten (from tensorflow.python.layers.core) is deprecated and will be removed in a future version.\n",
      "Instructions for updating:\n",
      "Use keras.layers.flatten instead.\n",
      "WARNING:tensorflow:From ibmHearingAid/multi_gpu/functions_brain_network.py:74: dense (from tensorflow.python.layers.core) is deprecated and will be removed in a future version.\n",
      "Instructions for updating:\n",
      "Use keras.layers.dense instead.\n",
      "WARNING:tensorflow:From ibmHearingAid/multi_gpu/functions_brain_network.py:78: dropout (from tensorflow.python.layers.core) is deprecated and will be removed in a future version.\n",
      "Instructions for updating:\n",
      "Use keras.layers.dropout instead.\n",
      "WARNING:tensorflow:From /usr/local/lib/python3.5/dist-packages/tensorflow/python/keras/layers/core.py:143: calling dropout (from tensorflow.python.ops.nn_ops) with keep_prob is deprecated and will be removed in a future version.\n",
      "Instructions for updating:\n",
      "Please use `rate` instead of `keep_prob`. Rate should be set to `rate = 1 - keep_prob`.\n",
      "ADDING OPS TO CHECKPOINTS\n",
      "[<tf.Tensor 'brain_network_1/pool_0:0' shape=(?, 100, 110, 16) dtype=float32>, <tf.Tensor 'brain_network_1/pool_2:0' shape=(?, 100, 35, 256) dtype=float32>, <tf.Tensor 'brain_network_1/pool_1:0' shape=(?, 100, 46, 32) dtype=float32>, <tf.Tensor 'brain_network_1/pool_5:0' shape=(?, 100, 3, 512) dtype=float32>, <tf.Tensor 'brain_network_1/pool_3:0' shape=(?, 100, 14, 128) dtype=float32>, <tf.Tensor 'brain_network_1/pool_4:0' shape=(?, 100, 3, 256) dtype=float32>]\n"
     ]
    }
   ],
   "source": []
  },
  {
   "cell_type": "code",
   "execution_count": 22,
   "metadata": {},
   "outputs": [
    {
     "name": "stdout",
     "output_type": "stream",
     "text": [
      "Selecting checkpoint 54000 (f0_label:accuracy=0.2105589061975479)\n"
     ]
    }
   ],
   "source": []
  },
  {
   "cell_type": "code",
   "execution_count": 29,
   "metadata": {},
   "outputs": [
    {
     "data": {
      "text/plain": [
       "{'batch_norm_0': <tf.Tensor 'brain_network_1/batch_norm_0/batchnorm/add_1:0' shape=(?, 100, 110, 16) dtype=float32>,\n",
       " 'batch_norm_1': <tf.Tensor 'brain_network_1/batch_norm_1/batchnorm/add_1:0' shape=(?, 100, 46, 32) dtype=float32>,\n",
       " 'batch_norm_2': <tf.Tensor 'brain_network_1/batch_norm_2/batchnorm/add_1:0' shape=(?, 100, 35, 256) dtype=float32>,\n",
       " 'batch_norm_3': <tf.Tensor 'brain_network_1/batch_norm_3/batchnorm/add_1:0' shape=(?, 100, 14, 128) dtype=float32>,\n",
       " 'batch_norm_4': <tf.Tensor 'brain_network_1/batch_norm_4/batchnorm/add_1:0' shape=(?, 100, 3, 256) dtype=float32>,\n",
       " 'batch_norm_5': <tf.Tensor 'brain_network_1/batch_norm_5/batchnorm/add_1:0' shape=(?, 100, 3, 512) dtype=float32>,\n",
       " 'batch_norm_fc_intermediate': <tf.Tensor 'brain_network_1/batch_norm_fc_intermediate/batchnorm/add_1:0' shape=(?, 256) dtype=float32>,\n",
       " 'conv_0': <tf.Tensor 'brain_network_1/conv_0/BiasAdd:0' shape=(?, 100, 453, 16) dtype=float32>,\n",
       " 'conv_1': <tf.Tensor 'brain_network_1/conv_1/BiasAdd:0' shape=(?, 100, 99, 32) dtype=float32>,\n",
       " 'conv_2': <tf.Tensor 'brain_network_1/conv_2/BiasAdd:0' shape=(?, 100, 35, 256) dtype=float32>,\n",
       " 'conv_3': <tf.Tensor 'brain_network_1/conv_3/BiasAdd:0' shape=(?, 100, 34, 128) dtype=float32>,\n",
       " 'conv_4': <tf.Tensor 'brain_network_1/conv_4/BiasAdd:0' shape=(?, 100, 13, 256) dtype=float32>,\n",
       " 'conv_5': <tf.Tensor 'brain_network_1/conv_5/BiasAdd:0' shape=(?, 100, 3, 512) dtype=float32>,\n",
       " 'dropout': <tf.Tensor 'brain_network_1/dropout/dropout/mul:0' shape=(?, 256) dtype=float32>,\n",
       " 'fc_intermediate': <tf.Tensor 'brain_network_1/fc_intermediate/BiasAdd:0' shape=(?, 256) dtype=float32>,\n",
       " 'fc_top': <tf.Tensor 'brain_network_1/fc_top/BiasAdd:0' shape=(?, 700) dtype=float32>,\n",
       " 'flatten_end_conv': <tf.Tensor 'brain_network_1/flatten_end_conv/Reshape:0' shape=(?, 153600) dtype=float32>,\n",
       " 'pool_0': <tf.Tensor 'brain_network_1/pool_0:0' shape=(?, 100, 110, 16) dtype=float32>,\n",
       " 'pool_1': <tf.Tensor 'brain_network_1/pool_1:0' shape=(?, 100, 46, 32) dtype=float32>,\n",
       " 'pool_2': <tf.Tensor 'brain_network_1/pool_2:0' shape=(?, 100, 35, 256) dtype=float32>,\n",
       " 'pool_3': <tf.Tensor 'brain_network_1/pool_3:0' shape=(?, 100, 14, 128) dtype=float32>,\n",
       " 'pool_4': <tf.Tensor 'brain_network_1/pool_4:0' shape=(?, 100, 3, 256) dtype=float32>,\n",
       " 'pool_5': <tf.Tensor 'brain_network_1/pool_5:0' shape=(?, 100, 3, 512) dtype=float32>,\n",
       " 'relu_0': <tf.Tensor 'brain_network_1/relu_0:0' shape=(?, 100, 453, 16) dtype=float32>,\n",
       " 'relu_1': <tf.Tensor 'brain_network_1/relu_1:0' shape=(?, 100, 99, 32) dtype=float32>,\n",
       " 'relu_2': <tf.Tensor 'brain_network_1/relu_2:0' shape=(?, 100, 35, 256) dtype=float32>,\n",
       " 'relu_3': <tf.Tensor 'brain_network_1/relu_3:0' shape=(?, 100, 34, 128) dtype=float32>,\n",
       " 'relu_4': <tf.Tensor 'brain_network_1/relu_4:0' shape=(?, 100, 13, 256) dtype=float32>,\n",
       " 'relu_5': <tf.Tensor 'brain_network_1/relu_5:0' shape=(?, 100, 3, 512) dtype=float32>,\n",
       " 'relu_fc_intermediate': <tf.Tensor 'brain_network_1/relu_fc_intermediate:0' shape=(?, 256) dtype=float32>}"
      ]
     },
     "execution_count": 29,
     "metadata": {},
     "output_type": "execute_result"
    }
   ],
   "source": [
    "brain_container"
   ]
  },
  {
   "cell_type": "code",
   "execution_count": 25,
   "metadata": {},
   "outputs": [],
   "source": [
    "batch_subbands = input_tensor_dict[ITERATOR_PARAMS['feature_signal_path']]"
   ]
  },
  {
   "cell_type": "code",
   "execution_count": 26,
   "metadata": {},
   "outputs": [
    {
     "data": {
      "text/plain": [
       "<tf.Tensor 'IteratorGetNext:8' shape=(?, 100, 500) dtype=float32>"
      ]
     },
     "execution_count": 26,
     "metadata": {},
     "output_type": "execute_result"
    }
   ],
   "source": [
    "batch_subbands"
   ]
  },
  {
   "cell_type": "code",
   "execution_count": null,
   "metadata": {},
   "outputs": [],
   "source": []
  }
 ],
 "metadata": {
  "kernelspec": {
   "display_name": "Python 3",
   "language": "python",
   "name": "python3"
  },
  "language_info": {
   "codemirror_mode": {
    "name": "ipython",
    "version": 3
   },
   "file_extension": ".py",
   "mimetype": "text/x-python",
   "name": "python",
   "nbconvert_exporter": "python",
   "pygments_lexer": "ipython3",
   "version": "3.5.2"
  }
 },
 "nbformat": 4,
 "nbformat_minor": 2
}
