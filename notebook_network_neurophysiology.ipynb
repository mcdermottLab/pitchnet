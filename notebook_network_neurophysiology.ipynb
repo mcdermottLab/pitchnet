{
 "cells": [
  {
   "cell_type": "code",
   "execution_count": 44,
   "metadata": {},
   "outputs": [],
   "source": [
    "import os\n",
    "import sys\n",
    "sys.path.append('ibmHearingAid/multi_gpu')\n",
    "import tensorflow as tf\n",
    "import numpy as np\n",
    "import json\n",
    "\n",
    "import pitchnet_evaluate_best\n",
    "import functions_graph_assembly as fga"
   ]
  },
  {
   "cell_type": "code",
   "execution_count": 30,
   "metadata": {},
   "outputs": [
    {
     "name": "stdout",
     "output_type": "stream",
     "text": [
      "Selecting checkpoint 54000 (f0_label:accuracy=0.2105589061975479)\n"
     ]
    }
   ],
   "source": [
    "output_directory = '/saved_models/arch_0628/PND_v04_TLAS_classification0'\n",
    "config_fn = os.path.join(output_directory, 'config.json')\n",
    "validation_metrics_fn = os.path.join(output_directory, 'validation_metrics.json')\n",
    "\n",
    "tfrecords_regex = '/om/user/msaddler/data_pitchnet/bernox2005/FixedFilter_f0min100_f0max300/cf100_species002_spont070/*.tfrecords'\n",
    "\n",
    "with open(config_fn) as f: CONFIG = json.load(f)\n",
    "\n",
    "ckpt_num = pitchnet_evaluate_best.get_best_checkpoint_number(validation_metrics_fn,\n",
    "                                                             metric_key='f0_label:accuracy',\n",
    "                                                             maximize=True,\n",
    "                                                             checkpoint_number_key='step')\n"
   ]
  },
  {
   "cell_type": "code",
   "execution_count": 50,
   "metadata": {},
   "outputs": [
    {
     "name": "stdout",
     "output_type": "stream",
     "text": [
      "delta_f0 dict_keys(['floatList'])\n",
      "pin_dBSPL dict_keys(['floatList'])\n",
      "f0_log2 dict_keys(['floatList'])\n",
      "min_audible_harm dict_keys(['int64List'])\n",
      "base_f0 dict_keys(['floatList'])\n",
      "f0_label dict_keys(['int64List'])\n",
      "f0 dict_keys(['floatList'])\n",
      "meanrates dict_keys(['bytesList'])\n",
      "signal dict_keys(['bytesList'])\n",
      "Ignoring tfrecords_key `signal` (not found in bytesList_decoding_dict)\n",
      "f0_lognormal dict_keys(['floatList'])\n",
      "max_audible_harm dict_keys(['int64List'])\n",
      "low_harm dict_keys(['int64List'])\n",
      "phase_mode dict_keys(['int64List'])\n",
      "### Files found: 36\n",
      "/om/user/msaddler/data_pitchnet/bernox2005/FixedFilter_f0min100_f0max300/cf100_species002_spont070/bez2018meanrates_000000-002016.tfrecords \n",
      "...\n",
      " /om/user/msaddler/data_pitchnet/bernox2005/FixedFilter_f0min100_f0max300/cf100_species002_spont070/bez2018meanrates_070583-072600.tfrecords\n",
      "Loading brain network config from /saved_models/arch_0628/PND_v04_TLAS_classification0/brain_arch.json\n",
      "ADDING OPS TO CHECKPOINTS\n",
      "[<tf.Tensor 'brain_network/pool_0:0' shape=(?, 100, 110, 16) dtype=float32>, <tf.Tensor 'brain_network/pool_2:0' shape=(?, 100, 35, 256) dtype=float32>, <tf.Tensor 'brain_network/pool_1:0' shape=(?, 100, 46, 32) dtype=float32>, <tf.Tensor 'brain_network/pool_5:0' shape=(?, 100, 3, 512) dtype=float32>, <tf.Tensor 'brain_network/pool_3:0' shape=(?, 100, 14, 128) dtype=float32>, <tf.Tensor 'brain_network/pool_4:0' shape=(?, 100, 3, 256) dtype=float32>]\n",
      "### Loading variables from specified checkpoint: /saved_models/arch_0628/PND_v04_TLAS_classification0/brain_model.ckpt-54000\n",
      "INFO:tensorflow:Restoring parameters from /saved_models/arch_0628/PND_v04_TLAS_classification0/brain_model.ckpt-54000\n"
     ]
    }
   ],
   "source": [
    "ITERATOR_PARAMS = CONFIG['ITERATOR_PARAMS']\n",
    "batch_size = 128\n",
    "bytesList_decoding_dict = {\"meanrates\": {\"dtype\": \"tf.float32\", \"shape\": [100, 500]}}\n",
    "feature_parsing_dict = pitchnet_evaluate_best.get_feature_parsing_dict_from_tfrecords(tfrecords_regex,\n",
    "                                                                                      bytesList_decoding_dict)\n",
    "\n",
    "ITERATOR_PARAMS['feature_parsing_dict'] = feature_parsing_dict\n",
    "N_CLASSES_DICT = CONFIG['N_CLASSES_DICT']\n",
    "BRAIN_PARAMS = CONFIG['BRAIN_PARAMS']\n",
    "\n",
    "\n",
    "tf.reset_default_graph()\n",
    "\n",
    "# BUILD TFRECORDS ITERATOR GRAPH\n",
    "iterator, dataset, _ = fga.build_tfrecords_iterator(tfrecords_regex,\n",
    "                                                    num_epochs=1, shuffle_flag=False,\n",
    "                                                    batch_size=batch_size,\n",
    "                                                    iterator_type='one-shot',\n",
    "                                                    **ITERATOR_PARAMS)\n",
    "input_tensor_dict = iterator.get_next()\n",
    "\n",
    "### BUILD BRAIN NETWORK GRAPH\n",
    "batch_subbands = input_tensor_dict[ITERATOR_PARAMS['feature_signal_path']]\n",
    "while len(batch_subbands.shape) < 4: batch_subbands = tf.expand_dims(batch_subbands, axis=-1)\n",
    "batch_out_dict, brain_container = fga.build_brain_graph(batch_subbands, N_CLASSES_DICT, **BRAIN_PARAMS)\n",
    "\n",
    "### START SESSION AND INITIALIZE GRAPH\n",
    "init_op = tf.group(tf.global_variables_initializer(), tf.local_variables_initializer())\n",
    "sess = tf.Session()\n",
    "sess.run(init_op)\n",
    "\n",
    "### BUILD SAVER GRAPH TO LOAD CHECKPOINT\n",
    "brain_var_scope = 'brain_network'\n",
    "brain_ckpt_prefix_name = BRAIN_PARAMS.get('save_ckpt_path', 'brain_model.ckpt')\n",
    "restore_model_path = os.path.join(output_directory, brain_ckpt_prefix_name + '-{}'.format(ckpt_num))\n",
    "brain_globals = tf.get_collection(tf.GraphKeys.GLOBAL_VARIABLES, scope=brain_var_scope)\n",
    "brain_locals = tf.get_collection(tf.GraphKeys.LOCAL_VARIABLES, scope=brain_var_scope)\n",
    "brain_variables =  brain_globals + brain_locals\n",
    "saver_brain_net, out_ckpt_loc_brain_net, brain_net_ckpt = fga.build_saver(\n",
    "    sess, brain_variables, output_directory,\n",
    "    restore_model_path=restore_model_path,\n",
    "    ckpt_prefix_name=brain_ckpt_prefix_name)\n"
   ]
  },
  {
   "cell_type": "code",
   "execution_count": 51,
   "metadata": {},
   "outputs": [
    {
     "name": "stdout",
     "output_type": "stream",
     "text": [
      "100\n",
      "200\n",
      "300\n",
      "400\n",
      "500\n",
      "End of evaluation dataset reached.\n",
      "relu_3 (72600, 128)\n",
      "relu_4 (72600, 256)\n",
      "f0 (72600,)\n",
      "relu_0 (72600, 16)\n",
      "low_harm (72600,)\n",
      "phase_mode (72600,)\n",
      "relu_5 (72600, 512)\n",
      "relu_1 (72600, 32)\n",
      "relu_2 (72600, 256)\n"
     ]
    }
   ],
   "source": [
    "tensors_to_evaluate = {}\n",
    "\n",
    "metadata_keys = ['f0', 'low_harm', 'phase_mode']\n",
    "for key in metadata_keys:\n",
    "    tensors_to_evaluate[key] = input_tensor_dict[key]\n",
    "\n",
    "mean_axis = [1, 2]\n",
    "for key in brain_container.keys():\n",
    "    if 'relu' in key:\n",
    "        activations = brain_container[key]\n",
    "        if len(activations.shape) == 4:\n",
    "            tensors_to_evaluate[key] = tf.reduce_mean(activations, axis=mean_axis)\n",
    "\n",
    "output_dict = {}\n",
    "for key in tensors_to_evaluate.keys():\n",
    "    output_dict[key] = []\n",
    "\n",
    "display_step = 100\n",
    "batch_count = 0\n",
    "try:\n",
    "    while True:\n",
    "        evaluated_batch = sess.run(tensors_to_evaluate)\n",
    "        for key in set(output_dict.keys()).intersection(evaluated_batch.keys()):\n",
    "            key_val = np.array(evaluated_batch[key]).tolist()\n",
    "            if not isinstance(key_val, list): key_val = [key_val]\n",
    "            output_dict[key].extend(key_val)\n",
    "            \n",
    "        batch_count += 1\n",
    "        if batch_count % display_step == 0: print(batch_count)\n",
    "except tf.errors.OutOfRangeError:\n",
    "    print('End of evaluation dataset reached.')\n",
    "\n",
    "for key in output_dict.keys():\n",
    "    output_dict[key] = np.array(output_dict[key])\n",
    "    print(key, output_dict[key].shape)\n"
   ]
  },
  {
   "cell_type": "code",
   "execution_count": 45,
   "metadata": {},
   "outputs": [
    {
     "name": "stdout",
     "output_type": "stream",
     "text": [
      "relu_3 [ 24 128]\n",
      "relu_4 [ 24 256]\n",
      "f0 [24]\n",
      "relu_0 [24 16]\n",
      "low_harm [24]\n",
      "relu_5 [ 24 512]\n",
      "relu_1 [24 32]\n",
      "relu_2 [ 24 256]\n"
     ]
    }
   ],
   "source": [
    "for key in evaluated_batch.keys():\n",
    "    print(key, np.array(evaluated_batch[key].shape))"
   ]
  },
  {
   "cell_type": "code",
   "execution_count": null,
   "metadata": {},
   "outputs": [],
   "source": []
  }
 ],
 "metadata": {
  "kernelspec": {
   "display_name": "Python 3",
   "language": "python",
   "name": "python3"
  },
  "language_info": {
   "codemirror_mode": {
    "name": "ipython",
    "version": 3
   },
   "file_extension": ".py",
   "mimetype": "text/x-python",
   "name": "python",
   "nbconvert_exporter": "python",
   "pygments_lexer": "ipython3",
   "version": "3.5.2"
  }
 },
 "nbformat": 4,
 "nbformat_minor": 2
}
