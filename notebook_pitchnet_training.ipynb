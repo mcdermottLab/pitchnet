{
 "cells": [
  {
   "cell_type": "code",
   "execution_count": 6,
   "metadata": {},
   "outputs": [
    {
     "data": {
      "text/plain": [
       "<module 'functions_parameter_handling' from '/code_location/multi_gpu/functions_parameter_handling.py'>"
      ]
     },
     "execution_count": 6,
     "metadata": {},
     "output_type": "execute_result"
    }
   ],
   "source": [
    "import os\n",
    "import sys\n",
    "import json\n",
    "import glob\n",
    "import copy\n",
    "import collections\n",
    "import re\n",
    "import numpy as np\n",
    "import importlib\n",
    "\n",
    "sys.path.append('/code_location/multi_gpu')\n",
    "import functions_parameter_handling\n",
    "importlib.reload(functions_parameter_handling)\n"
   ]
  },
  {
   "cell_type": "code",
   "execution_count": 27,
   "metadata": {},
   "outputs": [
    {
     "name": "stdout",
     "output_type": "stream",
     "text": [
      "Successfully (over)wrote config file: /saved_models/models_sr20000/arch_0302/PND_v08_TLAS_snr_neg10pos10_AN_sr2000_cf1000_species002_spont070_BW10eN1_IHC0050Hz_IHC7order_classification3/config.json\n",
      "Generated new model directory:\n",
      "\t/saved_models/models_sr20000/arch_0302/PND_v08_TLAS_snr_neg10pos10_AN_sr2000_cf1000_species002_spont070_BW10eN1_IHC0050Hz_IHC7order_classification3\n",
      "\n",
      "Successfully (over)wrote config file: /saved_models/models_sr20000/arch_0302/PND_v08_TLAS_snr_neg10pos10_AN_sr2000_cf1000_species002_spont070_BW10eN1_IHC0050Hz_IHC7order_classification4/config.json\n",
      "Generated new model directory:\n",
      "\t/saved_models/models_sr20000/arch_0302/PND_v08_TLAS_snr_neg10pos10_AN_sr2000_cf1000_species002_spont070_BW10eN1_IHC0050Hz_IHC7order_classification4\n",
      "\n",
      "Successfully (over)wrote config file: /saved_models/models_sr20000/arch_0302/PND_v08_TLAS_snr_neg10pos10_AN_sr2000_cf1000_species002_spont070_BW10eN1_IHC0050Hz_IHC7order_classification5/config.json\n",
      "Generated new model directory:\n",
      "\t/saved_models/models_sr20000/arch_0302/PND_v08_TLAS_snr_neg10pos10_AN_sr2000_cf1000_species002_spont070_BW10eN1_IHC0050Hz_IHC7order_classification5\n",
      "\n",
      "Successfully (over)wrote config file: /saved_models/models_sr20000/arch_0302/PND_v08_TLAS_snr_neg10pos10_AN_sr2000_cf1000_species002_spont070_BW10eN1_IHC0050Hz_IHC7order_classification6/config.json\n",
      "Generated new model directory:\n",
      "\t/saved_models/models_sr20000/arch_0302/PND_v08_TLAS_snr_neg10pos10_AN_sr2000_cf1000_species002_spont070_BW10eN1_IHC0050Hz_IHC7order_classification6\n",
      "\n",
      "Successfully (over)wrote config file: /saved_models/models_sr20000/arch_0302/PND_v08_TLAS_snr_neg10pos10_AN_sr2000_cf1000_species002_spont070_BW10eN1_IHC0050Hz_IHC7order_classification7/config.json\n",
      "Generated new model directory:\n",
      "\t/saved_models/models_sr20000/arch_0302/PND_v08_TLAS_snr_neg10pos10_AN_sr2000_cf1000_species002_spont070_BW10eN1_IHC0050Hz_IHC7order_classification7\n",
      "\n",
      "Successfully (over)wrote config file: /saved_models/models_sr20000/arch_0302/PND_v08_TLAS_snr_neg10pos10_AN_sr2000_cf1000_species002_spont070_BW10eN1_IHC0050Hz_IHC7order_classification8/config.json\n",
      "Generated new model directory:\n",
      "\t/saved_models/models_sr20000/arch_0302/PND_v08_TLAS_snr_neg10pos10_AN_sr2000_cf1000_species002_spont070_BW10eN1_IHC0050Hz_IHC7order_classification8\n",
      "\n",
      "Successfully (over)wrote config file: /saved_models/models_sr20000/arch_0302/PND_v08_TLAS_snr_neg10pos10_AN_sr2000_cf1000_species002_spont070_BW10eN1_IHC0050Hz_IHC7order_classification9/config.json\n",
      "Generated new model directory:\n",
      "\t/saved_models/models_sr20000/arch_0302/PND_v08_TLAS_snr_neg10pos10_AN_sr2000_cf1000_species002_spont070_BW10eN1_IHC0050Hz_IHC7order_classification9\n",
      "\n"
     ]
    }
   ],
   "source": [
    "model_dir_format = '/saved_models/models_sr20000/arch_0302/PND_v08_TLAS_snr_neg10pos10_AN_sr2000_cf1000_species002_spont070_BW10eN1_IHC0050Hz_IHC7order_classification{}'\n",
    "\n",
    "basename_config = 'config.json'\n",
    "basename_arch = 'brain_arch.json'\n",
    "\n",
    "glob.glob(model_dir.format('*'))\n",
    "\n",
    "\n",
    "for new_idx in range(3,10):\n",
    "    ref_model_dir = model_dir_format.format(0)\n",
    "    new_model_dir = model_dir_format.format(new_idx)\n",
    "    \n",
    "    # Load REF_CONFIG and modify paths and random seed to make NEW_CONFIG\n",
    "    ref_config_fn = os.path.join(ref_model_dir, basename_config)\n",
    "    REF_CONFIG = functions_parameter_handling.load_config_dict_from_json(ref_config_fn)\n",
    "    NEW_CONFIG = json.loads(json.dumps(REF_CONFIG).replace(os.path.basename(ref_model_dir),\n",
    "                                                           os.path.basename(new_model_dir)))\n",
    "    NEW_CONFIG['random_seed'] = REF_CONFIG['random_seed'] + new_idx\n",
    "    \n",
    "    # Load REF_ARCH\n",
    "    ref_arch_fn = os.path.join(ref_model_dir, basename_arch)\n",
    "    with open(ref_arch_fn, 'r') as f:\n",
    "        REF_ARCH = json.load(f)\n",
    "\n",
    "    new_config_fn = os.path.join(new_model_dir, basename_config)\n",
    "    new_arch_fn = os.path.join(new_model_dir, basename_arch)\n",
    "    if not os.path.exists(new_model_dir):\n",
    "        os.mkdir(new_model_dir)\n",
    "#     else:\n",
    "#         raise ValueError('new_model_dir already exists!!!')\n",
    "    \n",
    "    functions_parameter_handling.write_config_dict_to_json(NEW_CONFIG,\n",
    "                                                           new_config_fn,\n",
    "                                                           force_overwrite=False)\n",
    "    with open(new_arch_fn, 'w') as f:\n",
    "        json.dump(REF_ARCH, f, sort_keys=True)\n",
    "    \n",
    "    print('Generated new model directory:\\n\\t{}\\n'.format(new_model_dir))\n",
    "    \n",
    "#     print(json.dumps(NEW_CONFIG, indent=4, sort_keys=True))\n",
    "#     print(json.dumps(NEW_ARCH, indent=4, sort_keys=True))\n"
   ]
  },
  {
   "cell_type": "code",
   "execution_count": 28,
   "metadata": {},
   "outputs": [
    {
     "data": {
      "text/plain": [
       "{'BRAIN_PARAMS': {'batchnorm_flag': True,\n",
       "  'config': '/saved_models/models_sr20000/arch_0302/PND_v08_TLAS_snr_neg10pos10_AN_sr2000_cf1000_species002_spont070_BW10eN1_IHC0050Hz_IHC7order_classification9/brain_arch.json',\n",
       "  'dropout_flag': True,\n",
       "  'save_arch_path': '/saved_models/models_sr20000/arch_0302/PND_v08_TLAS_snr_neg10pos10_AN_sr2000_cf1000_species002_spont070_BW10eN1_IHC0050Hz_IHC7order_classification9/brain_arch.json',\n",
       "  'save_pckl_path': '/saved_models/models_sr20000/arch_0302/PND_v08_TLAS_snr_neg10pos10_AN_sr2000_cf1000_species002_spont070_BW10eN1_IHC0050Hz_IHC7order_classification9/pckl_network.pckl',\n",
       "  'trainable': True},\n",
       " 'COCH_PARAMS': {},\n",
       " 'EXTRAS': {'config_filename': '/saved_models/models_sr20000/arch_0302/PND_v08_TLAS_snr_neg10pos10_AN_sr2000_cf1000_species002_spont070_BW10eN1_IHC0050Hz_IHC7order_classification9/config.json',\n",
       "  'train_regex_brain': '/data/PND_v08/noise_TLAS_snr_neg10pos10/sr2000_cf1000_species002_spont070_BW10eN1_IHC0050Hz_IHC7order/bez2018meanrates_0[0-7]*.tfrecords'},\n",
       " 'ITERATOR_PARAMS': {'buffer': 6000,\n",
       "  'feature_parsing_dict': {'f0': {'dtype': 'tf.float32', 'shape': []},\n",
       "   'f0_label': {'dtype': 'tf.int64', 'shape': []},\n",
       "   'f0_log2': {'dtype': 'tf.float32', 'shape': []},\n",
       "   'f0_lognormal': {'dtype': 'tf.float32', 'shape': []},\n",
       "   'meanrates': {'dtype': 'tf.float32', 'shape': [100, 1000]}},\n",
       "  'feature_signal_path': 'meanrates',\n",
       "  'n_prefetch': 10},\n",
       " 'N_CLASSES_DICT': {'f0_label': 700},\n",
       " 'OPTM_PARAMS': {'learning_rate': 0.0001},\n",
       " 'TASK_LOSS_PARAMS': {'f0_label': {'activation_type': None,\n",
       "   'apply_adaptive_uncertainty': False,\n",
       "   'loss_type': 'sparse_softmax_cross_entropy_with_logits'}},\n",
       " 'batch_size': 64,\n",
       " 'brain_net_ckpt_to_load': None,\n",
       " 'controller': '/cpu:0',\n",
       " 'debug_print': False,\n",
       " 'display_step': 100,\n",
       " 'early_stopping_baselines': {'f0_label:accuracy': 0.05},\n",
       " 'early_stopping_metrics': {'f0_label:accuracy': 0.005},\n",
       " 'max_runtime': None,\n",
       " 'num_epochs': None,\n",
       " 'output_directory': '/saved_models/models_sr20000/arch_0302/PND_v08_TLAS_snr_neg10pos10_AN_sr2000_cf1000_species002_spont070_BW10eN1_IHC0050Hz_IHC7order_classification9',\n",
       " 'random_seed': 526,\n",
       " 'save_iterator': False,\n",
       " 'save_step': 5000,\n",
       " 'valid_display_step': None,\n",
       " 'valid_step': 5000}"
      ]
     },
     "execution_count": 28,
     "metadata": {},
     "output_type": "execute_result"
    }
   ],
   "source": [
    "NEW_CONFIG"
   ]
  },
  {
   "cell_type": "code",
   "execution_count": null,
   "metadata": {},
   "outputs": [],
   "source": []
  }
 ],
 "metadata": {
  "kernelspec": {
   "display_name": "Python 3",
   "language": "python",
   "name": "python3"
  },
  "language_info": {
   "codemirror_mode": {
    "name": "ipython",
    "version": 3
   },
   "file_extension": ".py",
   "mimetype": "text/x-python",
   "name": "python",
   "nbconvert_exporter": "python",
   "pygments_lexer": "ipython3",
   "version": "3.5.2"
  }
 },
 "nbformat": 4,
 "nbformat_minor": 2
}
