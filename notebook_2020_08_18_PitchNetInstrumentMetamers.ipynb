{
 "cells": [
  {
   "cell_type": "code",
   "execution_count": 1,
   "metadata": {},
   "outputs": [],
   "source": [
    "import IPython.display as ipd\n",
    "from IPython.display import display\n",
    "import glob\n",
    "from ipywidgets import widgets, interactive\n",
    "import scipy.io.wavfile\n",
    "import matplotlib.pyplot as plt\n",
    "import numpy as np\n",
    "import sys\n",
    "import glob\n",
    "import os\n",
    "import pickle as pckl\n",
    "\n",
    "from IPython.display import Image\n",
    "from IPython.core.display import HTML \n",
    "\n",
    "import pickle\n"
   ]
  },
  {
   "cell_type": "code",
   "execution_count": 2,
   "metadata": {},
   "outputs": [],
   "source": [
    "models = ['/om4/group/mcdermott/user/jfeather/projects/pitch_network_metamers/model_analysis_folders/arch_0302_PND_v08_TLAS_snr_neg10pos10_AN_RSB_noise0000_classification0'\n",
    "         ]\n",
    "\n",
    "# example sounds that we have right now. \n",
    "sounds_idx = range(15)\n",
    "layers_idx = range(24) # 10 different layers\n",
    "\n",
    "# Path inside of each model directory -- can be changed if the optimization was different\n",
    "metamer_path = 'metamers/pitchnet_inst_RS541_IA5000_IL0/'\n",
    "\n",
    "# Name of the original file in the metamer directory\n",
    "orig_name_glob = '*_audio_time_varying.wav'\n",
    "\n",
    "pitch_network_layers = ['visualization_input', 'conv_0', 'conv_0_jittered_relu', \n",
    "                        'pool_0', 'batch_norm_0',\n",
    "                        'conv_1', 'conv_1_jittered_relu', \n",
    "                        'pool_1', 'batch_norm_1', \n",
    "                        'conv_2', 'conv_2_jittered_relu', \n",
    "                        'pool_2', 'batch_norm_2', \n",
    "                        'conv_3', 'conv_3_jittered_relu', \n",
    "                        'pool_3', 'batch_norm_3', \n",
    "                        'conv_4', 'conv_4_jittered_relu', \n",
    "                        'pool_4', 'batch_norm_4', \n",
    "                        'flatten_end_conv', \n",
    "                        'fc_intermediate', 'fc_intermediate_jittered_relu', \n",
    "                        'batch_norm_fc_intermediate', 'fc_top']\n"
   ]
  },
  {
   "cell_type": "code",
   "execution_count": 3,
   "metadata": {},
   "outputs": [],
   "source": [
    "def display_examples(model, \n",
    "                     sound_idx, \n",
    "                     layer_name):\n",
    "    \n",
    "    sound_folder = glob.glob(os.path.join('model_analysis_folders', model, metamer_path,\n",
    "                             '%d_SOUND'%sound_idx))\n",
    "    assert len(sound_folder)==1\n",
    "    sound_folder = sound_folder[0]\n",
    "    \n",
    "    orig_glob = glob.glob(os.path.join(sound_folder, orig_name_glob))\n",
    "    orig_path = orig_glob[0]\n",
    "    \n",
    "    metamer_wav_path = glob.glob(\n",
    "            os.path.join(sound_folder, '*full_%s*synth.wav'%layer_name))[0]\n",
    "    metamer_pckl_path = glob.glob(\n",
    "            os.path.join(sound_folder, '*full_%s*.pckl'%layer_name))[0]\n",
    "    \n",
    "    metamer_pckl = pickle.load(open(metamer_pckl_path, 'rb'))\n",
    "    \n",
    "    print('Orig')\n",
    "    ipd.display(ipd.Audio(orig_path))\n",
    "    print('Synth')\n",
    "    ipd.display(ipd.Audio(metamer_wav_path))\n",
    "     \n",
    "    plt.figure(figsize=(10,4))\n",
    "    plt.subplot(2,1,1)\n",
    "    plt.imshow(np.squeeze(metamer_pckl['orig_coch_time_varying']), origin='lower', interpolation='none')\n",
    "    plt.title('Subbands Orig')\n",
    "    plt.subplot(2,1,2)\n",
    "    plt.imshow(np.squeeze(metamer_pckl['synth_coch']), origin='lower', interpolation='none')\n",
    "    plt.title('Subbands Synthetic')\n",
    "    plt.show()\n",
    "    \n",
    "#     plt.figure(figsize=(6,3))\n",
    "#     plt.subplot(1,2,1)\n",
    "#     plt.scatter(metamer_pckl['features_out_time_varying_synth'][layer_name], \n",
    "#                 metamer_pckl['features_out_time_varying_orig'][layer_name])\n",
    "#     plt.xlabel('Synth Activations')\n",
    "#     plt.ylabel('Orig Activations')\n",
    "#     plt.title('Activations at \\n Layer %s'%layer_name)\n",
    "#     plt.subplot(1,2,2)\n",
    "#     plt.scatter(metamer_pckl['features_out_time_varying_synth']['fc_top'], \n",
    "#                 metamer_pckl['features_out_time_varying_orig']['fc_top'])\n",
    "#     plt.xlabel('Synth Activations')\n",
    "#     plt.ylabel('Orig Activations')\n",
    "#     plt.title('Activations at \\n Logits, %s'%'fc_top')\n",
    "#     plt.tight_layout()\n",
    "#     plt.show()\n",
    "    \n",
    "    \n",
    "    "
   ]
  },
  {
   "cell_type": "code",
   "execution_count": 4,
   "metadata": {
    "scrolled": false
   },
   "outputs": [
    {
     "data": {
      "application/vnd.jupyter.widget-view+json": {
       "model_id": "bf275906da0d41539082988fe647e08e",
       "version_major": 2,
       "version_minor": 0
      },
      "text/plain": [
       "interactive(children=(Dropdown(description='model', options=('/om4/group/mcdermott/user/jfeather/projects/pitc…"
      ]
     },
     "metadata": {},
     "output_type": "display_data"
    },
    {
     "data": {
      "text/plain": [
       "<function __main__.display_examples(model, sound_idx, layer_name)>"
      ]
     },
     "execution_count": 4,
     "metadata": {},
     "output_type": "execute_result"
    }
   ],
   "source": [
    "widgets.interact(display_examples, \n",
    "                 model=models,\n",
    "                 sound_idx=sounds_idx, \n",
    "                 layer_name=pitch_network_layers)\n"
   ]
  },
  {
   "cell_type": "code",
   "execution_count": null,
   "metadata": {},
   "outputs": [],
   "source": []
  }
 ],
 "metadata": {
  "kernelspec": {
   "display_name": "Python 3",
   "language": "python",
   "name": "python3"
  },
  "language_info": {
   "codemirror_mode": {
    "name": "ipython",
    "version": 3
   },
   "file_extension": ".py",
   "mimetype": "text/x-python",
   "name": "python",
   "nbconvert_exporter": "python",
   "pygments_lexer": "ipython3",
   "version": "3.5.2"
  }
 },
 "nbformat": 4,
 "nbformat_minor": 4
}
