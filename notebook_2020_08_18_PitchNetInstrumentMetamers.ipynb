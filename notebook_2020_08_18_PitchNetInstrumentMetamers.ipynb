{
 "cells": [
  {
   "cell_type": "code",
   "execution_count": 1,
   "metadata": {},
   "outputs": [],
   "source": [
    "import IPython.display as ipd\n",
    "from IPython.display import display\n",
    "import glob\n",
    "from ipywidgets import widgets, interactive\n",
    "import scipy.io.wavfile\n",
    "import matplotlib.pyplot as plt\n",
    "import numpy as np\n",
    "import sys\n",
    "import glob\n",
    "import os\n",
    "import pickle as pckl\n",
    "\n",
    "from IPython.display import Image\n",
    "from IPython.core.display import HTML \n",
    "\n",
    "import pickle\n"
   ]
  },
  {
   "cell_type": "code",
   "execution_count": 2,
   "metadata": {},
   "outputs": [],
   "source": [
    "models = ['/om4/group/mcdermott/user/jfeather/projects/pitch_network_metamers/model_analysis_folders/arch_0302_PND_v08_TLAS_snr_neg10pos10_AN_RSB_noise0000_classification0'\n",
    "         ]\n",
    "\n",
    "# example sounds that we have right now. \n",
    "sounds_idx = range(15)\n",
    "layers_idx = range(24) # 10 different layers\n",
    "\n",
    "# Path inside of each model directory -- can be changed if the optimization was different\n",
    "metamer_path = 'metamers/pitchnet_inst_RS541_IA5000_IL0/'\n",
    "\n",
    "# Name of the original file in the metamer directory\n",
    "orig_name_glob = '*_audio_time_varying.wav'\n",
    "\n",
    "pitch_network_layers = ['visualization_input', 'conv_0', 'conv_0_jittered_relu', \n",
    "                        'pool_0', 'batch_norm_0',\n",
    "                        'conv_1', 'conv_1_jittered_relu', \n",
    "                        'pool_1', 'batch_norm_1', \n",
    "                        'conv_2', 'conv_2_jittered_relu', \n",
    "                        'pool_2', 'batch_norm_2', \n",
    "                        'conv_3', 'conv_3_jittered_relu', \n",
    "                        'pool_3', 'batch_norm_3', \n",
    "                        'conv_4', 'conv_4_jittered_relu', \n",
    "                        'pool_4', 'batch_norm_4', \n",
    "                        'flatten_end_conv', \n",
    "                        'fc_intermediate', 'fc_intermediate_jittered_relu', \n",
    "                        'batch_norm_fc_intermediate', 'fc_top']\n"
   ]
  },
  {
   "cell_type": "code",
   "execution_count": 3,
   "metadata": {},
   "outputs": [],
   "source": [
    "def display_examples(model, \n",
    "                     sound_idx, \n",
    "                     layer_name):\n",
    "    \n",
    "    sound_folder = glob.glob(os.path.join('model_analysis_folders', model, metamer_path,\n",
    "                             '%d_SOUND'%sound_idx))\n",
    "    assert len(sound_folder)==1\n",
    "    sound_folder = sound_folder[0]\n",
    "    \n",
    "    orig_glob = glob.glob(os.path.join(sound_folder, orig_name_glob))\n",
    "    orig_path = orig_glob[0]\n",
    "    \n",
    "    metamer_wav_path = glob.glob(\n",
    "            os.path.join(sound_folder, '*full_%s*synth.wav'%layer_name))[0]\n",
    "    metamer_pckl_path = glob.glob(\n",
    "            os.path.join(sound_folder, '*full_%s*.pckl'%layer_name))[0]\n",
    "    \n",
    "    metamer_pckl = pickle.load(open(metamer_pckl_path, 'rb'))\n",
    "    \n",
    "    print('Orig')\n",
    "    ipd.display(ipd.Audio(orig_path))\n",
    "    print('Synth')\n",
    "    ipd.display(ipd.Audio(metamer_wav_path))\n",
    "     \n",
    "    plt.figure(figsize=(10,4))\n",
    "    plt.subplot(2,1,1)\n",
    "    plt.imshow(np.squeeze(metamer_pckl['orig_coch_time_varying']), origin='lower', interpolation='none')\n",
    "    plt.title('Subbands Orig')\n",
    "    plt.subplot(2,1,2)\n",
    "    plt.imshow(np.squeeze(metamer_pckl['synth_coch']), origin='lower', interpolation='none')\n",
    "    plt.title('Subbands Synthetic')\n",
    "    plt.show()\n",
    "    \n",
    "#     plt.figure(figsize=(6,3))\n",
    "#     plt.subplot(1,2,1)\n",
    "#     plt.scatter(metamer_pckl['features_out_time_varying_synth'][layer_name], \n",
    "#                 metamer_pckl['features_out_time_varying_orig'][layer_name])\n",
    "#     plt.xlabel('Synth Activations')\n",
    "#     plt.ylabel('Orig Activations')\n",
    "#     plt.title('Activations at \\n Layer %s'%layer_name)\n",
    "#     plt.subplot(1,2,2)\n",
    "#     plt.scatter(metamer_pckl['features_out_time_varying_synth']['fc_top'], \n",
    "#                 metamer_pckl['features_out_time_varying_orig']['fc_top'])\n",
    "#     plt.xlabel('Synth Activations')\n",
    "#     plt.ylabel('Orig Activations')\n",
    "#     plt.title('Activations at \\n Logits, %s'%'fc_top')\n",
    "#     plt.tight_layout()\n",
    "#     plt.show()\n",
    "    \n",
    "    \n",
    "    "
   ]
  },
  {
   "cell_type": "code",
   "execution_count": 4,
   "metadata": {
    "scrolled": false
   },
   "outputs": [
    {
     "data": {
      "application/vnd.jupyter.widget-view+json": {
       "model_id": "5ede972f64224aae85cea0bd9a5beb75",
       "version_major": 2,
       "version_minor": 0
      },
      "text/plain": [
       "interactive(children=(Dropdown(description='model', options=('/om4/group/mcdermott/user/jfeather/projects/pitc…"
      ]
     },
     "metadata": {},
     "output_type": "display_data"
    },
    {
     "data": {
      "text/plain": [
       "<function __main__.display_examples(model, sound_idx, layer_name)>"
      ]
     },
     "execution_count": 4,
     "metadata": {},
     "output_type": "execute_result"
    }
   ],
   "source": [
    "widgets.interact(display_examples, \n",
    "                 model=models,\n",
    "                 sound_idx=sounds_idx, \n",
    "                 layer_name=pitch_network_layers)\n"
   ]
  },
  {
   "cell_type": "code",
   "execution_count": 34,
   "metadata": {},
   "outputs": [
    {
     "data": {
      "text/html": [
       "\n",
       "                <audio controls=\"controls\" >\n",
       "                    <source src=\"data:audio/wav;base64,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\" type=\"audio/wav\" />\n",
       "                    Your browser does not support the audio element.\n",
       "                </audio>\n",
       "              "
      ],
      "text/plain": [
       "<IPython.lib.display.Audio object>"
      ]
     },
     "metadata": {},
     "output_type": "display_data"
    }
   ],
   "source": [
    "import h5py\n",
    "import resampy\n",
    "import numpy as np\n",
    "\n",
    "\n",
    "def rms(x):\n",
    "    '''\n",
    "    Returns root mean square amplitude of x (raises ValueError if NaN).\n",
    "    '''\n",
    "    out = np.sqrt(np.mean(np.square(x)))\n",
    "    if np.isnan(out):\n",
    "        raise ValueError('rms calculation resulted in NaN')\n",
    "    return out\n",
    "\n",
    "\n",
    "def set_dBSPL(x, dBSPL, mean_subtract=True):\n",
    "    '''\n",
    "    Returns x re-scaled to specified SPL in dB re 20e-6 Pa.\n",
    "    '''\n",
    "    if mean_subtract:\n",
    "        x = x - np.mean(x)\n",
    "    rms_out = 20e-6 * np.power(10, dBSPL/20)\n",
    "    return rms_out * x / rms(x)\n",
    "\n",
    "\n",
    "def get_pure_tone_dataset(DUR=0.05,\n",
    "                          SR=32000,\n",
    "                          N=15,\n",
    "                          f0_min=80,\n",
    "                          f0_max=1000,\n",
    "                          dBSPL=60.0,\n",
    "                          random_seed=858):\n",
    "    \"\"\"\n",
    "    Makes a small dataset dictionary containing `N` pure tones with frequencies\n",
    "    spaced log-uniformly between `f0_min` and `f0_max`. Pure tones have random\n",
    "    start phases and are scaled to specified `dBSPL`.\n",
    "    \"\"\"\n",
    "    t = np.arange(0, DUR, 1/SR)\n",
    "    list_f0 = np.exp(np.linspace(np.log(f0_min), np.log(f0_max), N))\n",
    "    y_preprocessed = np.zeros([N, len(t)], dtype=np.float32)\n",
    "    for itr_f0, f0 in enumerate(list_f0):\n",
    "        y_preprocessed[itr_f0] = np.sin(2*np.pi*f0*t + 2*np.pi*np.random.rand())\n",
    "        y_preprocessed[itr_f0] = set_dBSPL(y_preprocessed[itr_f0], dBSPL)\n",
    "    dataset = {\n",
    "        'sr': np.array([SR]),\n",
    "        'f0': list_f0,\n",
    "        'y_preprocessed': y_preprocessed,\n",
    "    }\n",
    "    return dataset\n",
    "\n",
    "\n",
    "def pitchnet_datasets(WAV_IDX, data_type='inst', preproc_scaled=None, rms_normalize=None, SR=32000):\n",
    "    \"\"\"\n",
    "    Loads an example from the pitch network datasets, either speech or instrument. Each hdf5 contains 15 clips.\n",
    "    \"\"\"\n",
    "    sound_locations = {\n",
    "        'inst': '/om/user/msaddler/data_pitchnet/PND_v08inst_examples_for_metamers.hdf5',\n",
    "        'spch': '/om/user/msaddler/data_pitchnet/PND_v08spch_examples_for_metamers.hdf5',\n",
    "        'pure': get_pure_tone_dataset(),\n",
    "    }\n",
    "    if isinstance(sound_locations[data_type], str):\n",
    "        dataset = h5py.File(sound_locations[data_type], \"r\")\n",
    "        filename = sound_locations[data_type]\n",
    "    else:\n",
    "        dataset = sound_locations[data_type]\n",
    "        filename = data_type # <-- this probably isnt a great filename\n",
    "    # Convert the SR if necessary\n",
    "    if dataset['sr'][0]!=SR:\n",
    "        wav_f = resampy.resample(dataset['y_preprocessed'][WAV_IDX], dataset['sr'][0], SR, axis=0)\n",
    "    else:\n",
    "        wav_f = dataset['y_preprocessed'][WAV_IDX]\n",
    "    if rms_normalize is not None:\n",
    "        raise ValueError('pitch net datasets are already rms preprocessed for the networks, set to 60dB SPL. do not change rms_normalize')\n",
    "    if (preproc_scaled is not None) and (~np.isclose(preproc_scaled, 1)):\n",
    "        print(~np.isclose(preproc_scaled, 1))\n",
    "        raise ValueError('pitch net datasets are already scaled for the networks, set to 60dB SPL. Cannot use option preproc_scaled=%f.'%preproc_scaled)\n",
    "    audio_dict={}\n",
    "    audio_dict['wav'] = wav_f\n",
    "    audio_dict['SR'] = SR\n",
    "    audio_dict['filename'] = filename\n",
    "    audio_dict['filename_short'] = '%s_%d'%(data_type, WAV_IDX)\n",
    "    audio_dict['correct_response'] = dataset['f0'][WAV_IDX]\n",
    "    return audio_dict\n",
    "\n",
    "\n",
    "audio_dict = pitchnet_datasets(2, data_type='pure', preproc_scaled=None, rms_normalize=None, SR=32000)\n",
    "import IPython.display as ipd\n",
    "ipd.display(ipd.Audio(audio_dict['wav'], rate=audio_dict['SR']))\n"
   ]
  },
  {
   "cell_type": "code",
   "execution_count": 35,
   "metadata": {},
   "outputs": [
    {
     "data": {
      "text/plain": [
       "{'SR': 32000,\n",
       " 'correct_response': 114.76023196680742,\n",
       " 'filename': 'pure',\n",
       " 'filename_short': 'pure_2',\n",
       " 'wav': array([-0.01475273, -0.0152797 , -0.01579877, ...,  0.0257608 ,\n",
       "         0.02549427,  0.02521495], dtype=float32)}"
      ]
     },
     "execution_count": 35,
     "metadata": {},
     "output_type": "execute_result"
    }
   ],
   "source": [
    "audio_dict"
   ]
  },
  {
   "cell_type": "code",
   "execution_count": null,
   "metadata": {},
   "outputs": [],
   "source": []
  }
 ],
 "metadata": {
  "kernelspec": {
   "display_name": "Python 3",
   "language": "python",
   "name": "python3"
  },
  "language_info": {
   "codemirror_mode": {
    "name": "ipython",
    "version": 3
   },
   "file_extension": ".py",
   "mimetype": "text/x-python",
   "name": "python",
   "nbconvert_exporter": "python",
   "pygments_lexer": "ipython3",
   "version": "3.5.2"
  }
 },
 "nbformat": 4,
 "nbformat_minor": 4
}
